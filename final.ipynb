{
 "cells": [
  {
   "cell_type": "code",
   "execution_count": 1,
   "metadata": {},
   "outputs": [],
   "source": [
    "import csv\n",
    "from ipyleaflet import Map, LayerGroup, CircleMarker"
   ]
  },
  {
   "cell_type": "code",
   "execution_count": 17,
   "metadata": {},
   "outputs": [
    {
     "data": {
      "application/vnd.jupyter.widget-view+json": {
       "model_id": "b94bd54b09b743aab7243ddf2f28f979",
       "version_major": 2,
       "version_minor": 0
      },
      "text/plain": [
       "Map(center=[40, 135], controls=(ZoomControl(options=['position', 'zoom_in_text', 'zoom_in_title', 'zoom_out_te…"
      ]
     },
     "metadata": {},
     "output_type": "display_data"
    }
   ],
   "source": [
    "m = Map(center=[40, 135], zoom=4)\n",
    "m"
   ]
  },
  {
   "cell_type": "code",
   "execution_count": 10,
   "metadata": {},
   "outputs": [],
   "source": [
    "with open('NativeRange.csv') as f:\n",
    "    native_range = list(csv.reader(f))[1:]\n",
    "    native_range = [list(map(float, r)) for r in native_range]"
   ]
  },
  {
   "cell_type": "code",
   "execution_count": 11,
   "metadata": {},
   "outputs": [],
   "source": [
    "with open('merged-ready.csv') as f:\n",
    "    merged_ready = list(csv.reader(f))[1:]\n",
    "    merged_ready = [list(map(float, r)) for r in merged_ready]"
   ]
  },
  {
   "cell_type": "code",
   "execution_count": 18,
   "metadata": {},
   "outputs": [],
   "source": [
    "lnative = LayerGroup()\n",
    "for l in native_range:\n",
    "    lnative.add_layer(CircleMarker(location=l, color='red', radius=3))\n",
    "m += lnative"
   ]
  },
  {
   "cell_type": "code",
   "execution_count": 13,
   "metadata": {},
   "outputs": [],
   "source": [
    "temp = {(round((r[0] - 30.5) / 0.75), round((r[1] - 110.5) / 0.75)): r for r in merged_ready if 30 < r[0] < 60 and 110 < r[1] < 150}"
   ]
  },
  {
   "cell_type": "code",
   "execution_count": 14,
   "metadata": {},
   "outputs": [],
   "source": [
    "result = [r[:2] + temp[(round((r[0] - 30.5) / 0.75), round((r[1] - 110.5) / 0.75))] for r in native_range]"
   ]
  },
  {
   "cell_type": "code",
   "execution_count": 19,
   "metadata": {},
   "outputs": [],
   "source": [
    "lres = LayerGroup()\n",
    "for _, _, a, b, _ in result:\n",
    "    lres.add_layer(CircleMarker(location=[a,b], radius=3))\n",
    "m += lres"
   ]
  },
  {
   "cell_type": "code",
   "execution_count": 18,
   "metadata": {},
   "outputs": [],
   "source": [
    "with open('result.csv', 'w') as f:\n",
    "    w = csv.writer(f)\n",
    "    w.writerow('lat long gridlat gridlong average'.split())\n",
    "    w.writerows(result)"
   ]
  },
  {
   "cell_type": "code",
   "execution_count": null,
   "metadata": {},
   "outputs": [],
   "source": []
  }
 ],
 "metadata": {
  "kernelspec": {
   "display_name": "Python 3",
   "language": "python",
   "name": "python3"
  },
  "language_info": {
   "codemirror_mode": {
    "name": "ipython",
    "version": 3
   },
   "file_extension": ".py",
   "mimetype": "text/x-python",
   "name": "python",
   "nbconvert_exporter": "python",
   "pygments_lexer": "ipython3",
   "version": "3.8.1"
  }
 },
 "nbformat": 4,
 "nbformat_minor": 4
}
